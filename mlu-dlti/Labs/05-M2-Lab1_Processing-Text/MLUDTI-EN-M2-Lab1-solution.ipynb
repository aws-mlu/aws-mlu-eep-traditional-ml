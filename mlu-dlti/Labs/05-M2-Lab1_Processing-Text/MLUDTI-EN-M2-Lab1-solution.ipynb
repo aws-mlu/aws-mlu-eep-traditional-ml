{
 "cells": [
  {
   "cell_type": "markdown",
   "metadata": {
    "tags": []
   },
   "source": [
    "<center><img src=\"../common/images/logo.png\" alt=\"drawing\" width=\"400\" style=\"background-color:white; padding:1em;\" /></center> <br/>\n",
    "\n",
    "# Application of Deep Learning to Text and Image Data\n",
    "## Module 2, Lab 1: Processing Text\n",
    "\n",
    "In this notebook, you will learn techniques to analyze and process text data. Text processing is known as *natural language processing (NLP)* and is an important topic because of how much information is communicated through text. Knowing how to handle text will help you build models that perform better and are more useful.\n",
    "\n",
    "You will learn the following:\n",
    "\n",
    "- What a word cloud is and how to create one\n",
    "- How to use stemming and lemmatization \n",
    "- What part-of-speech tagging is and how it impacts text processing\n",
    "- How to use named entity recognition to sort data\n",
    "\n",
    "---\n",
    "\n",
    "You will be presented with two kinds of exercises throughout the notebook: activities and challenges. <br/>\n",
    "\n",
    "| <img style=\"float: center;\" src=\"../common/images/activity.png\" alt=\"Activity\" width=\"125\"/>| <img style=\"float: center;\" src=\"../common/images/challenge.png\" alt=\"Challenge\" width=\"125\"/>|\n",
    "| --- | --- |\n",
    "|<p style=\"text-align:center;\">No coding is needed for an activity. You try to understand a concept, <br/>answer questions, or run a code cell.</p> |<p style=\"text-align:center;\">Challenges are where you can practice your coding skills.</p> |\n"
   ]
  },
  {
   "cell_type": "markdown",
   "metadata": {},
   "source": [
    "---\n",
    "## Index\n",
    "\n",
    "* [Word cloud](#Word-cloud)\n",
    "* [Part-of-speech tagging](#Part-of-speech-tagging)\n",
    "* [Stemming and lemmatization](#Stemming-and-lemmatization)\n",
    "* [Named entity recognition](#Named-entity-recognition)"
   ]
  },
  {
   "cell_type": "markdown",
   "metadata": {},
   "source": [
    "---\n",
    "## Initial Setup\n",
    "First let's put everything in place."
   ]
  },
  {
   "cell_type": "code",
   "execution_count": 24,
   "metadata": {
    "tags": []
   },
   "outputs": [],
   "source": [
    "%%capture\n",
    "!pip install -U -q -r requirements.txt"
   ]
  },
  {
   "cell_type": "markdown",
   "metadata": {},
   "source": [
    "Install the [spaCy](https://spacy.io/usage) library. This will be used to perform some NLP tasks in the lab."
   ]
  },
  {
   "cell_type": "code",
   "execution_count": null,
   "metadata": {
    "tags": []
   },
   "outputs": [],
   "source": [
    "!python -m spacy download en_core_web_sm"
   ]
  },
  {
   "cell_type": "code",
   "execution_count": null,
   "metadata": {
    "tags": []
   },
   "outputs": [],
   "source": [
    "# Import the dependencies\n",
    "from wordcloud import WordCloud, STOPWORDS\n",
    "import matplotlib.pyplot as plt\n",
    "import re, string\n",
    "import Stemmer\n",
    "import spacy\n",
    "from spacy import displacy\n",
    "import pandas as pd"
   ]
  },
  {
   "cell_type": "markdown",
   "metadata": {},
   "source": [
    "Next, you need to create a function to preprocess text so that only real words, not special characters and numbers, are displayed."
   ]
  },
  {
   "cell_type": "code",
   "execution_count": null,
   "metadata": {
    "tags": []
   },
   "outputs": [],
   "source": [
    "# Preprocess text\n",
    "def preProcessText(text):\n",
    "    # Lowercase and strip leading and trailing white space\n",
    "    text = text.lower().strip()\n",
    "\n",
    "    # Remove HTML tags\n",
    "    text = re.compile(\"<.*?>\").sub(\"\", text)\n",
    "\n",
    "    # Remove punctuation\n",
    "    text = re.compile(\"[%s]\" % re.escape(string.punctuation)).sub(\" \", text)\n",
    "\n",
    "    # Remove extra white space\n",
    "    text = re.sub(\"\\s+\", \" \", text)\n",
    "\n",
    "    # Remove numbers\n",
    "    text = re.sub(r\"[0-9]\", \"\", text)\n",
    "\n",
    "    return text"
   ]
  },
  {
   "cell_type": "markdown",
   "metadata": {},
   "source": [
    "---\n",
    "## Word cloud\n",
    "\n",
    "*Word clouds*, which are also known as *text clouds* or *tag clouds*, help you visualize text data by highlighting the important words or phrases. Word clouds convey crucial information at a glance by making commonly occurring words bigger and bolder. These clouds are commonly used to compare and contrast two pieces of text. Word clouds are also used to identify the topic of a document.\n",
    "\n",
    "To create a word cloud, you will use [WordCloud for Python](https://amueller.github.io/word_cloud).\n",
    "\n",
    "The following text is from the [What Is Natural Language Processing (NLP)?](https://aws.amazon.com/what-is/nlp) page on aws.amazon.com."
   ]
  },
  {
   "cell_type": "code",
   "execution_count": null,
   "metadata": {
    "tags": []
   },
   "outputs": [],
   "source": [
    "text = \"Natural language processing (NLP) is a machine learning technology that gives computers the \\\n",
    "ability to interpret, manipulate, and comprehend human language. Organizations today have large volumes \\\n",
    "of voice and text data from various communication channels like emails, text messages, social media \\\n",
    "newsfeeds, video, audio, and more. They use NLP software to automatically process this data, analyze \\\n",
    "the intent or sentiment in the message, and respond in real time to human communication. \\\n",
    "Natural language processing (NLP) is critical to fully and efficiently analyze text and speech data. \\\n",
    "It can work through the differences in dialects, slang, and grammatical irregularities typical in \\\n",
    "day-to-day conversations. \\\n",
    "Companies use it for several automated tasks, such as to: \\\n",
    "<li>Process, analyze, and archive large documents</li> \\\n",
    "<li>Analyze customer feedback or call center recordings</li> \\\n",
    "<li>Run chatbots for automated customer service</li> \\\n",
    "<li>Answer who-what-when-where questions</li> \\\n",
    "<li>Classify and extract text</li> \\\n",
    "You can also integrate NLP in customer-facing applications to communicate more effectively with \\\n",
    "customers. For example, a chatbot analyzes and sorts customer queries, responding automatically to \\\n",
    "common questions and redirecting complex queries to customer support. This automation helps reduce \\\n",
    "costs, saves agents from spending time on redundant queries, and improves customer satisfaction.\""
   ]
  },
  {
   "cell_type": "code",
   "execution_count": null,
   "metadata": {
    "tags": []
   },
   "outputs": [],
   "source": [
    "# Remove stop words before generating the word cloud\n",
    "wordcloud = WordCloud(stopwords=STOPWORDS, background_color=\"black\", max_words=300)\n",
    "\n",
    "# Clean up the text to prevent plotting punctuation and duplicate words (for example, 'Natural' and 'natural')\n",
    "wordcloud.generate(preProcessText(text))\n",
    "\n",
    "plt.figure(figsize=(15, 10))\n",
    "plt.axis(\"off\")\n",
    "plt.imshow(wordcloud);"
   ]
  },
  {
   "cell_type": "markdown",
   "metadata": {},
   "source": [
    "Now that you have created a word cloud, do you see how it can help you quickly identify key words?\n",
    "\n",
    "Note that the stop words were removed before the graphic was created. This is important so that words that don't impact the meaning of the text aren't overemphasized. Can you think of some examples of stop words?\n",
    "\n",
    "In this example, you used the precompiled list of stop words that were curated by the WordCloud for Python project. You can print a list of the stop words to make sure that they cover the stop words that you expect."
   ]
  },
  {
   "cell_type": "code",
   "execution_count": null,
   "metadata": {
    "tags": []
   },
   "outputs": [],
   "source": [
    "# Show the list of stop words\n",
    "\", \".join(list(STOPWORDS))"
   ]
  },
  {
   "cell_type": "markdown",
   "metadata": {},
   "source": [
    "---\n",
    "## Part-of-speech tagging\n",
    "\n",
    "The process of classifying words into their corresponding part of speech based on definition and context is called *part-of-speech tagging*, which is also known as *POS tagging*. A part-of-speech tagger processes a sequence of words and attaches a part-of-speech tag to each word. \n",
    "\n",
    "For this lab, you will use the the Natural Language Toolkit [spaCy](https://spacy.io/usage). The __nlp() function__ creates different token attributes, among them the one representing the token tag: __token.pos__. For example, the following tagged token combines the word *fly* with a noun part of speech tag, *NN*: `tagged_tok = ('fly', 'NOUN')`.\n",
    "\n",
    "The following table provides the meanings for the tags from a lst of Universal POS tags:\n",
    "\n",
    "| Tag | Meaning |\n",
    "| --- | --- |\n",
    "|ADJ | Adjective |\n",
    "|ADV | Adposition |\n",
    "|ADP | Adverb |\n",
    "|AUX | Auxiliary |\n",
    "|CCONJ | Coordinating Conjuction |\n",
    "|DET | Determiner |\n",
    "|INTJ | Interjection |\n",
    "|NOUN | Noun |\n",
    "|NUM | Numeral |\n",
    "|PART | Particle |\n",
    "|PRON | Pronoun |\n",
    "|PROPN | Proper Noun |\n",
    "|PUNCT | Punctuation |\n",
    "|SCONJ | Subordinating Conjuction |\n",
    "|SYM | Symbol |\n",
    "|VERB | Verb |\n",
    "|X | Other |"
   ]
  },
  {
   "cell_type": "markdown",
   "metadata": {},
   "source": [
    "Now you can use the tagger to tag each token or word in the following text.\n",
    "\n",
    "**Important:** Always remember to preprocess the text before tagging, as we have done before in this notebook."
   ]
  },
  {
   "cell_type": "code",
   "execution_count": null,
   "metadata": {
    "tags": []
   },
   "outputs": [],
   "source": [
    "# Text sample\n",
    "text"
   ]
  },
  {
   "cell_type": "markdown",
   "metadata": {},
   "source": [
    "<div style=\"border: 4px solid coral; text-align: center; margin: auto;\">\n",
    "    <h3><i>Try it yourself!</i></h3>\n",
    "    <br>\n",
    "    <p style=\"text-align:center;margin:auto;\"><img src=\"../common/images/activity.png\" alt=\"Activity\" width=\"100\" /> </p>\n",
    "    <p style=\" text-align: center; margin: auto;\">To use the spaCy part-of-speech tagger, run the following cell.</p> \n",
    "    <p style=\" text-align: center; margin: auto;\">Observe the tags that are assigned to each word, and use the table from a previous cell to understand the meaning of each tag.</p>\n",
    "    <br>\n",
    "</div>"
   ]
  },
  {
   "cell_type": "code",
   "execution_count": null,
   "metadata": {},
   "outputs": [],
   "source": [
    "# Part-of-speech tagging\n",
    "nlp = spacy.load(\"en_core_web_sm\")\n",
    "doc = nlp(text)\n",
    "token_text = [token.orth_ for token in doc]\n",
    "token_lemma = [token.lemma_ for token in doc]\n",
    "token_pos = [token.pos_ for token in doc]\n",
    "pd.DataFrame(zip(token_text, token_pos),\n",
    "             columns=['token_text', 'token_lemma'])"
   ]
  },
  {
   "cell_type": "markdown",
   "metadata": {},
   "source": [
    "Refer to the table in a previous cell to identify the tags that the spaCy tagger produces."
   ]
  },
  {
   "cell_type": "code",
   "execution_count": null,
   "metadata": {},
   "outputs": [],
   "source": [
    "# uncomment the code bellow to display the dependency parse or named entities and their tags \n",
    "#displacy.render(doc, style=\"dep\")"
   ]
  },
  {
   "cell_type": "markdown",
   "metadata": {},
   "source": [
    "---\n",
    "## Stemming and lemmatization\n",
    "\n",
    "Stemming and lemmatization are two ways to process words so that a model will be more efficient. Both methods remove parts of words so that they can be grouped together.\n",
    "\n",
    "For example, in the following sentence, \"ning\" would be removed from \"running\" so that \"running\" and \"run\" would be categorized the same.\n",
    "\n",
    "<p style=\"text-align:center\">The child enjoys <b>running</b>, so they <b>run</b> every day.</p>\n",
    "\n",
    "What could make stemming and lemmatization difficult to do properly?"
   ]
  },
  {
   "cell_type": "markdown",
   "metadata": {},
   "source": [
    "<div style=\"border: 4px solid coral; text-align: center; margin: auto;\">\n",
    "    <h3><i>Try it yourself!</i></h3>\n",
    "    <br>\n",
    "    <p style=\"text-align:center;margin:auto;\"><img src=\"../common/images/activity.png\" alt=\"Activity\" width=\"100\" /> </p>\n",
    "    <p style=\" text-align: center; margin: auto;\">In the next few sections, you will compare stemming and lemmatization.  </p>\n",
    "    <p style=\" text-align: center; margin: auto;\">Consider which text processing method is more suitable for the use case that is provided.</p>\n",
    "        \n",
    "<br>\n",
    "</div>"
   ]
  },
  {
   "cell_type": "markdown",
   "metadata": {},
   "source": [
    "### Stemming\n",
    "Stemming is a rule-based system to convert words into their root forms by removing suffixes. This method helps to enhance similarities (if any) between sentences.\n",
    "\n",
    "Examples:\n",
    "\n",
    "\"jumping\", \"jumped\" -> \"jump\"\n",
    "\n",
    "\"cars\" -> \"car\""
   ]
  },
  {
   "cell_type": "code",
   "execution_count": null,
   "metadata": {},
   "outputs": [],
   "source": [
    "# let's list the language available\n",
    "print(Stemmer.algorithms())"
   ]
  },
  {
   "cell_type": "code",
   "execution_count": null,
   "metadata": {},
   "outputs": [],
   "source": [
    "# we will use english for this example\n",
    "stemmer = Stemmer.Stemmer('english')"
   ]
  },
  {
   "cell_type": "code",
   "execution_count": null,
   "metadata": {
    "tags": []
   },
   "outputs": [],
   "source": [
    "original_text = \"   This is a message to be cleaned. It may involve some things like: <br>, ?, :, ''  adjacent spaces and tabs     .  \"\n",
    "print(original_text)"
   ]
  },
  {
   "cell_type": "code",
   "execution_count": null,
   "metadata": {
    "tags": []
   },
   "outputs": [],
   "source": [
    "# Cleaned text\n",
    "cleaned_text = preProcessText(original_text)\n",
    "print(cleaned_text)"
   ]
  },
  {
   "cell_type": "code",
   "execution_count": null,
   "metadata": {},
   "outputs": [],
   "source": [
    "# Use a tokenizer (nlp) and stemmer from the PyStemmer library\n",
    "nlp = spacy.load(\"en_core_web_sm\")\n",
    "doc = nlp(original_text)\n",
    "stemmed_sentence = []\n",
    "original_sentence = []\n",
    "# Tokenize the sentence\n",
    "for token in doc:\n",
    "    original_sentence.append(token.text)\n",
    "    stemmed_sentence.append(stemmer.stemWord(token.text))\n",
    "\n",
    "pd.DataFrame(zip(original_sentence, stemmed_sentence),\n",
    "             columns=['token_text', 'token_stemmer'])"
   ]
  },
  {
   "cell_type": "code",
   "execution_count": null,
   "metadata": {
    "tags": []
   },
   "outputs": [],
   "source": [
    "stemmed_text = \" \".join(stemmed_sentence)\n",
    "print(stemmed_text)"
   ]
  },
  {
   "cell_type": "markdown",
   "metadata": {},
   "source": [
    "From the output of the previous code cell, you can see that stemming isn't perfect. It makes mistakes, such as \"messag\", \"involv\", and \"adjac\". Stemming is a rule-based method that sometimes mistakenly removes suffixes from words. It does run quickly, which makes it appealing to use for massive datasets."
   ]
  },
  {
   "cell_type": "markdown",
   "metadata": {},
   "source": [
    "### Lemmatization\n",
    "If you aren't satisfied with the result of stemming, you can use the lemmatization instead. This method usually requires more work but gives better results.\n",
    "\n",
    "Lemmatization needs to know the correct word position tags, such as \"noun\", \"verb\", or \"adjective\". You need to use another spaCy function to feed this information to the lemmatizer."
   ]
  },
  {
   "cell_type": "markdown",
   "metadata": {},
   "source": [
    "The cell below uses part of the full list of position tags listed in the previous session `Part-of-speech tagging`. "
   ]
  },
  {
   "cell_type": "code",
   "execution_count": null,
   "metadata": {
    "scrolled": true
   },
   "outputs": [],
   "source": [
    "# get the original and the lemmatized the word/token\n",
    "token_lemma = [token.lemma_ for token in doc]\n",
    "token_text = [token.orth_ for token in doc]\n",
    "pd.DataFrame(zip(token_text, token_lemma),\n",
    "             columns=['token_text', 'token_lemma'])"
   ]
  },
  {
   "cell_type": "code",
   "execution_count": null,
   "metadata": {
    "tags": []
   },
   "outputs": [],
   "source": [
    "lemmatized_text = \" \".join(token_lemma)\n",
    "print(lemmatized_text)"
   ]
  },
  {
   "cell_type": "markdown",
   "metadata": {},
   "source": [
    "How do the results compare? Is the lemmatized text better than the stemmed text?"
   ]
  },
  {
   "cell_type": "markdown",
   "metadata": {
    "tags": []
   },
   "source": [
    "---\n",
    "## Named entity recognition\n",
    "\n",
    "Named entity recognition involves identification of key information in text and then classifying that information into predefined categories, such as person, organization, place, or date. This is one of the most popular NLP tasks.\n",
    "\n",
    "For this section, you will use [spaCy](https://spacy.io). The following table lists the categories and meanings of the category labels that the spaCy module uses.\n",
    "\n",
    "| Category | Meaning |\n",
    "| --- | --- |\n",
    "| CARDINAL | Numerals that don't fall under another type |\n",
    "| DATE | Absolute or relative dates or periods |\n",
    "| EVENT | Named hurricanes, battles, wars, sports events, and so on |\n",
    "| FAC | Buildings, airports, highways, bridges, and so on |\n",
    "| GPE | Countries, cities, states |\n",
    "| LANGUAGE | Any named language |\n",
    "| LAW | Named documents made into laws |\n",
    "| LOC | Non-GPE locations, mountain ranges, bodies of water |\n",
    "| MONEY | Monetary values, including unit |\n",
    "| NORP | Nationalities, or religious or political groups |\n",
    "| ORDINAL | \"first\", \"second\",  and so on |\n",
    "| ORG | Companies, agencies, institutions, and so on |\n",
    "| PERCENT | Percentage, including \"%\" |\n",
    "| PERSON | People, including fictional |\n",
    "| PRODUCT | Objects, vehicles, foods, and so on (not services) |\n",
    "| QUANTITY | Measurements, as of weight or distance |\n",
    "| WORK_OF_ART | Titles of books, songs, and so on |\n",
    "\n",
    "\n",
    "The following text was retrieved from the [Amazon - The Climate Pledge](https://www.aboutamazon.com/planet/climate-pledge) page of the About Amazon website."
   ]
  },
  {
   "cell_type": "code",
   "execution_count": null,
   "metadata": {
    "tags": []
   },
   "outputs": [],
   "source": [
    "# Sample text for named entity recognition\n",
    "ner_text = \"Amazon and Global Optimism co-founded The Climate Pledge, \\\n",
    "a commitment to net-zero \\\n",
    "carbon by 2040.\""
   ]
  },
  {
   "cell_type": "code",
   "execution_count": null,
   "metadata": {
    "tags": []
   },
   "outputs": [],
   "source": [
    "# Load the spaCy English pipeline for named entity recognition\n",
    "NER = spacy.load(\"en_core_web_sm\")\n",
    "\n",
    "# Tag entities in the text\n",
    "for word in NER(ner_text).ents:\n",
    "    print(word.text, word.label_)"
   ]
  },
  {
   "cell_type": "markdown",
   "metadata": {},
   "source": [
    "---\n",
    "## Visualizing the Tags\n",
    "spaCy has a visualizer called displaCy that you can use to visualize tags. Run the following cell to see it working."
   ]
  },
  {
   "cell_type": "code",
   "execution_count": null,
   "metadata": {
    "tags": []
   },
   "outputs": [],
   "source": [
    "# Visual tag with text\n",
    "displacy.render(NER(ner_text), style=\"ent\", jupyter=True)"
   ]
  },
  {
   "cell_type": "markdown",
   "metadata": {},
   "source": [
    "As you can see, named entity recognition can help you identify different entities in text. The process isn't always correct, but it can process large sections of text faster than a human can."
   ]
  },
  {
   "cell_type": "markdown",
   "metadata": {},
   "source": [
    "----\n",
    "## Conclusion\n",
    "\n",
    "In this lab, you practiced using text processing techniques.\n",
    "\n",
    "---\n",
    "## Next lab\n",
    "In the next lab, you will learn about the bag-of-words (BoW) method to convert text data into numerical values."
   ]
  }
 ],
 "metadata": {
  "instance_type": "ml.t3.medium",
  "kernelspec": {
   "display_name": "Python 3 (ipykernel)",
   "language": "python",
   "name": "python3"
  },
  "language_info": {
   "codemirror_mode": {
    "name": "ipython",
    "version": 3
   },
   "file_extension": ".py",
   "mimetype": "text/x-python",
   "name": "python",
   "nbconvert_exporter": "python",
   "pygments_lexer": "ipython3",
   "version": "3.12.9"
  },
  "toc": {
   "base_numbering": 1,
   "nav_menu": {},
   "number_sections": true,
   "sideBar": true,
   "skip_h1_title": false,
   "title_cell": "Table of Contents",
   "title_sidebar": "Contents",
   "toc_cell": false,
   "toc_position": {},
   "toc_section_display": true,
   "toc_window_display": false
  }
 },
 "nbformat": 4,
 "nbformat_minor": 4
}
